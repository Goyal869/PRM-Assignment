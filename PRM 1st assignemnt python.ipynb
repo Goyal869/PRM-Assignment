{
 "cells": [
  {
   "cell_type": "code",
   "execution_count": 5,
   "id": "7aea05bd",
   "metadata": {},
   "outputs": [
    {
     "name": "stdout",
     "output_type": "stream",
     "text": [
      "enter no of elements4\n",
      "enter string for list great hello hiyo abc\n",
      "list before sorting with 2nd last element ['great', 'hello', 'hiyo', 'abc']\n",
      "sorted list  ['great', 'abc', 'hello', 'hiyo']\n"
     ]
    }
   ],
   "source": [
    "n=int(input(\"enter no of elements\"))\n",
    "l=[str(x) for x in input(\"enter string for list \").split()][:n]\n",
    "print(\"list before sorting with 2nd last element\",l)\n",
    "for i in range(0,len(l)):\n",
    "    for j in range(0,len(l)-i-1):\n",
    "        if (ord(l[j][-2])>ord(l[j+1][-2])):\n",
    "            swap=l[j]\n",
    "            l[j]=l[j+1]\n",
    "            l[j+1]=swap\n",
    "print(\"sorted list \"  ,l)\n",
    "\n",
    "    "
   ]
  },
  {
   "cell_type": "code",
   "execution_count": null,
   "id": "fb5f96a6",
   "metadata": {},
   "outputs": [],
   "source": [
    "Your task is to complete the validate_triangle and validate_rectangle functions for the classes.Hint for validating is given in the\n",
    "comments of the code. Also you will have to print the following after validation in respective functions:-\n",
    "1.Invalid Triangle: If the triangle sum property of sides is not valid(More hint in the comments of code\n",
    "2.Valid Triangle:If the triangle sum property of sides is valid.\n",
    "3.Valid Rectangle:If 2 side pairs are same and they are input in correct order like l,b,l,b\n",
    "4.Invalid Rectangle: If Not Valid rectangle as stated above.\n",
    "\n",
    "Input Format:\n",
    "The side length of triangle followed by for rectangle in the next line in order.\n",
    "Output Format:\n",
    "since object are created in order, so first validate info about triangle will come and than rectangle.\n",
    "Sample Input 0:\n",
    "3 4 5\n",
    "2 4 2 4\n",
    "Sample Output 0:\n",
    "Valid Triangle\n",
    "Valid Rectangle"
   ]
  },
  {
   "cell_type": "code",
   "execution_count": 19,
   "id": "e989f977",
   "metadata": {},
   "outputs": [
    {
     "name": "stdout",
     "output_type": "stream",
     "text": [
      "enter length of triangle3\n",
      "enter height of triangle4\n",
      "enter base of triangle5\n",
      "Enter the first length of rectangle 2\n",
      "Enter the first width of rectangle 4\n",
      "Enter the second length of rectangle 2\n",
      "Enter the second width of rectangle 4\n",
      "Valid triangle\n",
      "valid rectangle\n"
     ]
    }
   ],
   "source": [
    "def validtriangle(a,b,c):\n",
    "    if(a+b>c) or (a+c>b) or (b+c>a):\n",
    "        return(\"Valid triangle\")\n",
    "    else:\n",
    "        return(\"invalid triangle\")\n",
    "def validrectangle(l1,b1,l2,b2):\n",
    "    if (l1==l2 and b1==b2):\n",
    "        return\"valid rectangle\"\n",
    "    else:\n",
    "        return\"invalid rectangle\"\n",
    "    \n",
    "    \n",
    "a,b,c=int(input(\"enter length of triangle\")),int(input(\"enter height of triangle\")),int(input(\"enter base of triangle\"))\n",
    "l1,b1=int(input(\"Enter the first length of rectangle \")), int(input(\"Enter the first width of rectangle \"))\n",
    "l2,b2=int(input(\"Enter the second length of rectangle \")),int(input(\"Enter the second width of rectangle \"))\n",
    "a=validtriangle(a,b,c)\n",
    "b=validrectangle(l1,b1,l2,b2)\n",
    "print(a)\n",
    "print(b)\n",
    "\n",
    "\n",
    "        "
   ]
  },
  {
   "cell_type": "code",
   "execution_count": 2,
   "id": "9848391d",
   "metadata": {},
   "outputs": [
    {
     "data": {
      "text/plain": [
       "True"
      ]
     },
     "execution_count": 2,
     "metadata": {},
     "output_type": "execute_result"
    }
   ],
   "source": [
    "30+11>5"
   ]
  },
  {
   "cell_type": "code",
   "execution_count": null,
   "id": "939a23b5",
   "metadata": {},
   "outputs": [],
   "source": []
  }
 ],
 "metadata": {
  "kernelspec": {
   "display_name": "Python 3 (ipykernel)",
   "language": "python",
   "name": "python3"
  },
  "language_info": {
   "codemirror_mode": {
    "name": "ipython",
    "version": 3
   },
   "file_extension": ".py",
   "mimetype": "text/x-python",
   "name": "python",
   "nbconvert_exporter": "python",
   "pygments_lexer": "ipython3",
   "version": "3.9.12"
  }
 },
 "nbformat": 4,
 "nbformat_minor": 5
}
